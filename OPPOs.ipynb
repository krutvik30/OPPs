{
  "nbformat": 4,
  "nbformat_minor": 0,
  "metadata": {
    "colab": {
      "provenance": []
    },
    "kernelspec": {
      "name": "python3",
      "display_name": "Python 3"
    },
    "language_info": {
      "name": "python"
    }
  },
  "cells": [
    {
      "cell_type": "markdown",
      "source": [
        "**Python OOPs Questions**\n"
      ],
      "metadata": {
        "id": "s_JFkhKwpNo4"
      }
    },
    {
      "cell_type": "markdown",
      "source": [
        "1. What is Object-Oriented Programming (OOP) ?"
      ],
      "metadata": {
        "id": "cvt7-3kVl46T"
      }
    },
    {
      "cell_type": "markdown",
      "source": [
        "=> Object-Oriented Programming (OOP) is a programming paradigm based on objects and classes that use principles like encapsulation, inheritance, and polymorphism."
      ],
      "metadata": {
        "id": "nQJDxu4rl43N"
      }
    },
    {
      "cell_type": "markdown",
      "source": [
        "2. What is a class in OOP?"
      ],
      "metadata": {
        "id": "_ThnKCWhl40P"
      }
    },
    {
      "cell_type": "markdown",
      "source": [
        "=> A class is a blueprint for creating objects that define properties and behaviors."
      ],
      "metadata": {
        "id": "ET1ss2AWl4yH"
      }
    },
    {
      "cell_type": "markdown",
      "source": [
        "3. What is an object in OOP?\n"
      ],
      "metadata": {
        "id": "O-fDA87Rl4vp"
      }
    },
    {
      "cell_type": "markdown",
      "source": [
        "=> An object is an instance of a class containing its own data and methods."
      ],
      "metadata": {
        "id": "LAB1mN85l4tF"
      }
    },
    {
      "cell_type": "markdown",
      "source": [
        "4. What is the difference between abstraction and encapsulation?"
      ],
      "metadata": {
        "id": "KLLbXvf8mkI1"
      }
    },
    {
      "cell_type": "markdown",
      "source": [
        "=> * Abstraction hides implementation details and shows only essential features.\n",
        "   * Encapsulation restricts direct access to internal data by bundling attributes and methods."
      ],
      "metadata": {
        "id": "OXFKgub0mkp_"
      }
    },
    {
      "cell_type": "markdown",
      "source": [
        "5. What are dunder methods in Python?"
      ],
      "metadata": {
        "id": "JGxn7OYdmrO9"
      }
    },
    {
      "cell_type": "markdown",
      "source": [
        "=> Dunder methods are special methods in Python with double underscores (__init__, __str__, __repr__) used to define object behavior.\n",
        "\n"
      ],
      "metadata": {
        "id": "oPr2Rm0Zmu2l"
      }
    },
    {
      "cell_type": "markdown",
      "source": [
        "6. Explain the concept of inheritance in OOP.\n"
      ],
      "metadata": {
        "id": "fOcqIk52mvyT"
      }
    },
    {
      "cell_type": "markdown",
      "source": [
        "=>Inheritance allows a class to derive properties and methods from another class.\n",
        "\n"
      ],
      "metadata": {
        "id": "V0Opjck0m0U4"
      }
    },
    {
      "cell_type": "markdown",
      "source": [
        "7. What is polymorphism in OOP?\n"
      ],
      "metadata": {
        "id": "cDffcYaimwfS"
      }
    },
    {
      "cell_type": "markdown",
      "source": [
        "=>Polymorphism allows the same method name to be used in different classes with different implementations."
      ],
      "metadata": {
        "id": "2qLhEb-QmzUP"
      }
    },
    {
      "cell_type": "markdown",
      "source": [
        "8. How is encapsulation achieved in Python?\n"
      ],
      "metadata": {
        "id": "xbj-K91gm2AB"
      }
    },
    {
      "cell_type": "markdown",
      "source": [
        "=>Encapsulation in Python is achieved using private (__), protected (_), and public attributes, along with getter and setter methods.\n",
        "\n"
      ],
      "metadata": {
        "id": "kWuss8IWnBld"
      }
    },
    {
      "cell_type": "markdown",
      "source": [
        "9. What is a constructor in Python?"
      ],
      "metadata": {
        "id": "_sX_X3vym5s3"
      }
    },
    {
      "cell_type": "markdown",
      "source": [
        "=>A constructor in Python (__init__ method) initializes an object when it is created.\n",
        "\n"
      ],
      "metadata": {
        "id": "ihT4xN35m8s_"
      }
    },
    {
      "cell_type": "markdown",
      "source": [
        "10. What are class and static methods in Python?\n"
      ],
      "metadata": {
        "id": "kNeUbo5ZnEHf"
      }
    },
    {
      "cell_type": "markdown",
      "source": [
        "=> * @classmethod: Works with the class and modifies class attributes.\n",
        "   * @staticmethod: Independent of class and instance variables.\n"
      ],
      "metadata": {
        "id": "L3xSbtUgnGSt"
      }
    },
    {
      "cell_type": "markdown",
      "source": [
        "11. What is method overloading in Python?\n"
      ],
      "metadata": {
        "id": "4WntLOkPnHIV"
      }
    },
    {
      "cell_type": "markdown",
      "source": [
        "=>Method overloading in Python is achieved using default arguments since Python does not support traditional method overloading.\n",
        "\n"
      ],
      "metadata": {
        "id": "_CFZp9n5nI2J"
      }
    },
    {
      "cell_type": "markdown",
      "source": [
        "12. What is method overriding in OOP?\n"
      ],
      "metadata": {
        "id": "zzu_Vg56nJlD"
      }
    },
    {
      "cell_type": "markdown",
      "source": [
        "=>Method overriding occurs when a subclass provides a different implementation of a method inherited from a parent class.\n",
        "\n"
      ],
      "metadata": {
        "id": "4fw2kEganLls"
      }
    },
    {
      "cell_type": "markdown",
      "source": [
        "13. What is a property decorator in Python?\n"
      ],
      "metadata": {
        "id": "4mqjqu_5nMx1"
      }
    },
    {
      "cell_type": "markdown",
      "source": [
        "=>A property decorator (@property) allows a method to be accessed like an attribute.\n",
        "\n"
      ],
      "metadata": {
        "id": "Pv_20j3ynO66"
      }
    },
    {
      "cell_type": "markdown",
      "source": [
        "14. Why is polymorphism important in OOP?\n"
      ],
      "metadata": {
        "id": "NUS1FvIznP_j"
      }
    },
    {
      "cell_type": "markdown",
      "source": [
        "=>Polymorphism is important because it improves code flexibility, reusability, and maintainability.\n",
        "\n"
      ],
      "metadata": {
        "id": "WxcmrYNVnR7G"
      }
    },
    {
      "cell_type": "markdown",
      "source": [
        "15. What is an abstract class in Python?\n"
      ],
      "metadata": {
        "id": "hbVfrxovnSsx"
      }
    },
    {
      "cell_type": "markdown",
      "source": [
        "=>An abstract class in Python is a class with at least one abstract method (defined using @abstractmethod) that must be implemented in subclasses.\n",
        "\n"
      ],
      "metadata": {
        "id": "41HAyqpEnUCr"
      }
    },
    {
      "cell_type": "markdown",
      "source": [
        "16. What are the advantages of OOP?\n"
      ],
      "metadata": {
        "id": "0hHGCIbmnV4p"
      }
    },
    {
      "cell_type": "markdown",
      "source": [
        "=>Code reusability,\n",
        "Modularity,\n",
        "Scalability,\n",
        "Maintainability"
      ],
      "metadata": {
        "id": "l2wmdJjxnXij"
      }
    },
    {
      "cell_type": "markdown",
      "source": [
        "17. What is the difference between a class variable and an instance variable?\n"
      ],
      "metadata": {
        "id": "AVGfXxdhnZFP"
      }
    },
    {
      "cell_type": "markdown",
      "source": [
        "=> * Class variable: Shared across all instances.\n",
        "   * Instance variable: Unique to each object."
      ],
      "metadata": {
        "id": "IsNoSXx_nasi"
      }
    },
    {
      "cell_type": "markdown",
      "source": [
        "18. What is multiple inheritance in Python?\n"
      ],
      "metadata": {
        "id": "t037xmTOnb2X"
      }
    },
    {
      "cell_type": "markdown",
      "source": [
        "=> Multiple inheritance allows a class to inherit from more than one parent class.\n",
        "\n"
      ],
      "metadata": {
        "id": "nGdNOjCKneCm"
      }
    },
    {
      "cell_type": "markdown",
      "source": [
        "19. Explain the purpose of __str__ and __repr__ methods in Python.\n"
      ],
      "metadata": {
        "id": "xq83L6EQne7o"
      }
    },
    {
      "cell_type": "markdown",
      "source": [
        "=> * __str__: User-friendly string representation of an object.\n",
        "   * __repr__: Detailed, developer-friendly representation."
      ],
      "metadata": {
        "id": "JqJJsnW0ngTl"
      }
    },
    {
      "cell_type": "markdown",
      "source": [
        "20. What is the significance of the super() function in Python?\n"
      ],
      "metadata": {
        "id": "KzoiMJQQnhDg"
      }
    },
    {
      "cell_type": "markdown",
      "source": [
        "=> Significance of super(): It allows access to parent class methods from a child class.\n",
        "\n"
      ],
      "metadata": {
        "id": "bTK-pAYtnjbX"
      }
    },
    {
      "cell_type": "markdown",
      "source": [
        "21. What is the significance of the __del__ method in Python?\n"
      ],
      "metadata": {
        "id": "GF5kp6PfnlA6"
      }
    },
    {
      "cell_type": "markdown",
      "source": [
        "=>Significance of __del__: It is the destructor method called when an object is deleted.\n",
        "\n"
      ],
      "metadata": {
        "id": "mGLIDyTjnmlG"
      }
    },
    {
      "cell_type": "markdown",
      "source": [
        "22. What is the difference between @staticmethod and @classmethod in Python?\n"
      ],
      "metadata": {
        "id": "SY4093M6npMw"
      }
    },
    {
      "cell_type": "markdown",
      "source": [
        "=> * @staticmethod: No class or instance reference.\n",
        "   * @classmethod: Works with class attributes."
      ],
      "metadata": {
        "id": "02Jv6fflnpv9"
      }
    },
    {
      "cell_type": "markdown",
      "source": [
        "23. How does polymorphism work in Python with inheritance?\n"
      ],
      "metadata": {
        "id": "vkbV3tVtnrSS"
      }
    },
    {
      "cell_type": "markdown",
      "source": [
        "=> Polymorphism with inheritance allows child classes to override and implement parent class methods differently.\n",
        "\n"
      ],
      "metadata": {
        "id": "tPxFCSovntS8"
      }
    },
    {
      "cell_type": "markdown",
      "source": [
        "24. What is method chaining in Python OOP?\n"
      ],
      "metadata": {
        "id": "8G4yxkTqnu_E"
      }
    },
    {
      "cell_type": "markdown",
      "source": [
        "=>Method chaining allows multiple method calls on the same object in a single statement.\n",
        "\n"
      ],
      "metadata": {
        "id": "5Sw2Lg_znwkc"
      }
    },
    {
      "cell_type": "markdown",
      "source": [
        "25. What is the purpose of the __call__ method in Python?\n"
      ],
      "metadata": {
        "id": "QnIFtC-ynxfe"
      }
    },
    {
      "cell_type": "markdown",
      "source": [
        "=>Purpose of __call__: It makes an object callable like a function."
      ],
      "metadata": {
        "id": "wrKeKLR8nzDn"
      }
    },
    {
      "cell_type": "markdown",
      "source": [
        "## **Practical Questions**\n"
      ],
      "metadata": {
        "id": "JQCmYyI1qHFH"
      }
    },
    {
      "cell_type": "markdown",
      "source": [
        " 1. Create a parent class Animal with a method speak() that prints a generic message. Create a child class Dog\n",
        "that overrides the speak() method to print \"Bark!\"."
      ],
      "metadata": {
        "id": "XJhX8WFFqL57"
      }
    },
    {
      "cell_type": "code",
      "source": [
        "class Animal:\n",
        "    def speak(self):\n",
        "        print(\"Generic animal sound\")\n",
        "\n",
        "class Dog(Animal):\n",
        "    def speak(self):\n",
        "        print(\"Bark!\")\n",
        "\n",
        "a = Animal()\n",
        "a.speak()\n",
        "d = Dog()\n",
        "d.speak()\n",
        "print(\"\\n\")\n"
      ],
      "metadata": {
        "colab": {
          "base_uri": "https://localhost:8080/"
        },
        "id": "2SOVQZ_GrkyG",
        "outputId": "669cb659-466c-41b1-f5b7-79c31f9236c5"
      },
      "execution_count": 46,
      "outputs": [
        {
          "output_type": "stream",
          "name": "stdout",
          "text": [
            "Generic animal sound\n",
            "Bark!\n",
            "\n",
            "\n"
          ]
        }
      ]
    },
    {
      "cell_type": "markdown",
      "source": [
        " 2. Write a program to create an abstract class Shape with a method area(). Derive classes Circle and Rectangle\n",
        "from it and implement the area() method in both."
      ],
      "metadata": {
        "id": "s5-UKCGUqW7U"
      }
    },
    {
      "cell_type": "code",
      "source": [
        "class Shape(ABC):\n",
        "    @abstractmethod\n",
        "    def area(self):\n",
        "        pass\n",
        "\n",
        "class Circle(Shape):\n",
        "    def __init__(self, radius):\n",
        "        self.radius = radius\n",
        "\n",
        "    def area(self):\n",
        "        return 3.14 * self.radius * self.radius\n",
        "\n",
        "class Rectangle(Shape):\n",
        "    def __init__(self, length, width):\n",
        "        self.length = length\n",
        "        self.width = width\n",
        "\n",
        "    def area(self):\n",
        "        return self.length * self.width\n",
        "\n",
        "c = Circle(5)\n",
        "print(f\"Circle Area: {c.area()}\")\n",
        "r = Rectangle(4, 6)\n",
        "print(f\"Rectangle Area: {r.area()}\")\n",
        "print(\"\\n\")\n"
      ],
      "metadata": {
        "colab": {
          "base_uri": "https://localhost:8080/"
        },
        "id": "67Zdy5LfsYFT",
        "outputId": "be81723c-5e25-45aa-ddb0-b32ea0c9eaa9"
      },
      "execution_count": 45,
      "outputs": [
        {
          "output_type": "stream",
          "name": "stdout",
          "text": [
            "Circle Area: 78.5\n",
            "Rectangle Area: 24\n",
            "\n",
            "\n"
          ]
        }
      ]
    },
    {
      "cell_type": "markdown",
      "source": [
        " 3. Implement a multi-level inheritance scenario where a class Vehicle has an attribute type. Derive a class Car\n",
        "and further derive a class ElectricCar that adds a battery attribute."
      ],
      "metadata": {
        "id": "QdHw25l_qaWe"
      }
    },
    {
      "cell_type": "code",
      "source": [
        "class Vehicle:\n",
        "    def __init__(self, type):\n",
        "        self.type = type\n",
        "\n",
        "class Car(Vehicle):\n",
        "    def __init__(self, type, brand):\n",
        "        super().__init__(type)\n",
        "        self.brand = brand\n",
        "\n",
        "class ElectricCar(Car):\n",
        "    def __init__(self, type, brand, battery):\n",
        "        super().__init__(type, brand)\n",
        "        self.battery = battery\n",
        "\n",
        "e_car = ElectricCar(\"Sedan\", \"Tesla\", \"100 kWh\")\n",
        "print(f\"Vehicle Type: {e_car.type}, Brand: {e_car.brand}, Battery: {e_car.battery}\")\n",
        "print(\"\\n\")\n"
      ],
      "metadata": {
        "colab": {
          "base_uri": "https://localhost:8080/"
        },
        "id": "uOljeWbitUoe",
        "outputId": "a16ba06b-4b63-4488-addf-b8fcba44c231"
      },
      "execution_count": 44,
      "outputs": [
        {
          "output_type": "stream",
          "name": "stdout",
          "text": [
            "Vehicle Type: Sedan, Brand: Tesla, Battery: 100 kWh\n",
            "\n",
            "\n"
          ]
        }
      ]
    },
    {
      "cell_type": "markdown",
      "source": [
        " 4. Demonstrate polymorphism by creating a base class Bird with a method fly(). Create two derived classes\n",
        "Sparrow and Penguin that override the fly() method."
      ],
      "metadata": {
        "id": "rMcdI78ZqcMX"
      }
    },
    {
      "cell_type": "code",
      "source": [
        "class Bird:\n",
        "    def fly(self):\n",
        "        print(\"Some birds can fly.\")\n",
        "\n",
        "class Sparrow(Bird):\n",
        "    def fly(self):\n",
        "        print(\"Sparrow flies high.\")\n",
        "\n",
        "class Penguin(Bird):\n",
        "    def fly(self):\n",
        "        print(\"Penguins cannot fly.\")\n",
        "\n",
        "s = Sparrow()\n",
        "s.fly()\n",
        "p = Penguin()\n",
        "p.fly()\n",
        "print(\"\\n\")\n"
      ],
      "metadata": {
        "colab": {
          "base_uri": "https://localhost:8080/"
        },
        "id": "ucwL4V79thSH",
        "outputId": "a36cc7a5-f872-4087-cfe5-7d0af910e140"
      },
      "execution_count": 43,
      "outputs": [
        {
          "output_type": "stream",
          "name": "stdout",
          "text": [
            "Sparrow flies high.\n",
            "Penguins cannot fly.\n",
            "\n",
            "\n"
          ]
        }
      ]
    },
    {
      "cell_type": "markdown",
      "source": [
        "5. Write a program to demonstrate encapsulation by creating a class BankAccount with private attributes\n",
        "balance and methods to deposit, withdraw, and check balance."
      ],
      "metadata": {
        "id": "nsT9w8ykqeUE"
      }
    },
    {
      "cell_type": "code",
      "source": [
        "class BankAccount:\n",
        "    def __init__(self, balance):\n",
        "        self.__balance = balance\n",
        "\n",
        "    def deposit(self, amount):\n",
        "        self.__balance += amount\n",
        "\n",
        "    def withdraw(self, amount):\n",
        "        if amount <= self.__balance:\n",
        "            self.__balance -= amount\n",
        "\n",
        "    def get_balance(self):\n",
        "        return self.__balance\n",
        "\n",
        "acc = BankAccount(1000)\n",
        "acc.deposit(500)\n",
        "print(f\"Balance: {acc.get_balance()}\")\n",
        "acc.withdraw(200)\n",
        "print(f\"Balance: {acc.get_balance()}\")\n",
        "print(\"\\n\")\n"
      ],
      "metadata": {
        "colab": {
          "base_uri": "https://localhost:8080/"
        },
        "id": "cOSbSjwXt3J_",
        "outputId": "7d4808cd-badb-4e9d-b766-e09891caca47"
      },
      "execution_count": 42,
      "outputs": [
        {
          "output_type": "stream",
          "name": "stdout",
          "text": [
            "Balance: 1500\n",
            "Balance: 1300\n",
            "\n",
            "\n"
          ]
        }
      ]
    },
    {
      "cell_type": "markdown",
      "source": [
        " 6. Demonstrate runtime polymorphism using a method play() in a base class Instrument. Derive classes Guitar\n",
        "and Piano that implement their own version of play()."
      ],
      "metadata": {
        "id": "6SNY3enzqf2T"
      }
    },
    {
      "cell_type": "code",
      "source": [
        "class Instrument:\n",
        "    def play(self):\n",
        "        print(\"Playing instrument\")\n",
        "\n",
        "class Guitar(Instrument):\n",
        "    def play(self):\n",
        "        print(\"Playing guitar\")\n",
        "\n",
        "class Piano(Instrument):\n",
        "    def play(self):\n",
        "        print(\"Playing piano\")\n",
        "\n",
        "g = Guitar()\n",
        "g.play()\n",
        "p = Piano()\n",
        "p.play()\n",
        "print(\"\\n\")\n"
      ],
      "metadata": {
        "colab": {
          "base_uri": "https://localhost:8080/"
        },
        "id": "Hb44qRBAt8TM",
        "outputId": "eece0a9c-748f-4c70-b8bb-036846a161b9"
      },
      "execution_count": 41,
      "outputs": [
        {
          "output_type": "stream",
          "name": "stdout",
          "text": [
            "Playing guitar\n",
            "Playing piano\n",
            "\n",
            "\n"
          ]
        }
      ]
    },
    {
      "cell_type": "markdown",
      "source": [
        " 7. Create a class MathOperations with a class method add_numbers() to add two numbers and a static\n",
        "method subtract_numbers() to subtract two numbers."
      ],
      "metadata": {
        "id": "oe7VAR1OqiQv"
      }
    },
    {
      "cell_type": "code",
      "source": [
        "class MathOperations:\n",
        "    @classmethod\n",
        "    def add_numbers(cls, a, b):\n",
        "        return a + b\n",
        "\n",
        "    @staticmethod\n",
        "    def subtract_numbers(a, b):\n",
        "        return a - b\n",
        "\n",
        "print(f\"Addition: {MathOperations.add_numbers(5, 3)}\")\n",
        "print(f\"Subtraction: {MathOperations.subtract_numbers(10, 4)}\")\n",
        "print(\"\\n\")\n"
      ],
      "metadata": {
        "colab": {
          "base_uri": "https://localhost:8080/"
        },
        "id": "gYYC9tl0t_gO",
        "outputId": "4b06da94-0bef-431a-9e05-9bb877fed329"
      },
      "execution_count": 40,
      "outputs": [
        {
          "output_type": "stream",
          "name": "stdout",
          "text": [
            "Addition: 8\n",
            "Subtraction: 6\n",
            "\n",
            "\n"
          ]
        }
      ]
    },
    {
      "cell_type": "markdown",
      "source": [
        " 8. Implement a class Person with a class method to count the total number of persons created.\n"
      ],
      "metadata": {
        "id": "R0uEwobAqjO-"
      }
    },
    {
      "cell_type": "code",
      "source": [
        "class Person:\n",
        "    count = 0\n",
        "\n",
        "    def __init__(self):\n",
        "        Person.count += 1\n",
        "\n",
        "    @classmethod\n",
        "    def total_persons(cls):\n",
        "        return cls.count\n",
        "\n",
        "p1 = Person()\n",
        "p2 = Person()\n",
        "print(f\"Total Persons: {Person.total_persons()}\")\n",
        "print(\"\\n\")\n"
      ],
      "metadata": {
        "colab": {
          "base_uri": "https://localhost:8080/"
        },
        "id": "nv0L5ulbuCoq",
        "outputId": "2a3a55b5-5524-4207-cc72-edfe47f413fc"
      },
      "execution_count": 39,
      "outputs": [
        {
          "output_type": "stream",
          "name": "stdout",
          "text": [
            "Total Persons: 2\n",
            "\n",
            "\n"
          ]
        }
      ]
    },
    {
      "cell_type": "markdown",
      "source": [
        " 9. Write a class Fraction with attributes numerator and denominator. Override the str method to display the\n",
        "fraction as \"numerator/denominator\"."
      ],
      "metadata": {
        "id": "TLqlKd0yqk-_"
      }
    },
    {
      "cell_type": "code",
      "source": [
        "class Fraction:\n",
        "    def __init__(self, numerator, denominator):\n",
        "        self.numerator = numerator\n",
        "        self.denominator = denominator\n",
        "\n",
        "    def __str__(self):\n",
        "        return f\"{self.numerator}/{self.denominator}\"\n",
        "\n",
        "f = Fraction(3, 4)\n",
        "print(f)\n",
        "print(\"\\n\")\n"
      ],
      "metadata": {
        "colab": {
          "base_uri": "https://localhost:8080/"
        },
        "id": "uL0WsXrluGow",
        "outputId": "68cad2d1-5d8d-43aa-c3ef-c5ba6b85e095"
      },
      "execution_count": 38,
      "outputs": [
        {
          "output_type": "stream",
          "name": "stdout",
          "text": [
            "3/4\n",
            "\n",
            "\n"
          ]
        }
      ]
    },
    {
      "cell_type": "markdown",
      "source": [
        " 10. Demonstrate operator overloading by creating a class Vector and overriding the add method to add two\n",
        "vectors."
      ],
      "metadata": {
        "id": "hCSgXhOqqnJg"
      }
    },
    {
      "cell_type": "code",
      "source": [
        "class Vector:\n",
        "    def __init__(self, x, y):\n",
        "        self.x = x\n",
        "        self.y = y\n",
        "\n",
        "    def __add__(self, other):\n",
        "        return Vector(self.x + other.x, self.y + other.y)\n",
        "\n",
        "    def __str__(self):\n",
        "        return f\"({self.x}, {self.y})\"\n",
        "\n",
        "v1 = Vector(1, 2)\n",
        "v2 = Vector(3, 4)\n",
        "print(v1 + v2)\n",
        "print(\"\\n\")\n"
      ],
      "metadata": {
        "colab": {
          "base_uri": "https://localhost:8080/"
        },
        "id": "oFyf_34yuJ9M",
        "outputId": "f937c79d-fe01-4fe0-fc5a-d18012666181"
      },
      "execution_count": 37,
      "outputs": [
        {
          "output_type": "stream",
          "name": "stdout",
          "text": [
            "(4, 6)\n",
            "\n",
            "\n"
          ]
        }
      ]
    },
    {
      "cell_type": "markdown",
      "source": [
        " 11. Create a class Person with attributes name and age. Add a method greet() that prints \"Hello, my name is\n",
        "{name} and I am {age} years old.\""
      ],
      "metadata": {
        "id": "dYrvwh6Qqo2r"
      }
    },
    {
      "cell_type": "code",
      "source": [
        "class Person:\n",
        "    def __init__(self, name, age):\n",
        "        self.name = name\n",
        "        self.age = age\n",
        "\n",
        "    def greet(self):\n",
        "        print(f\"Hello, my name is {self.name} and I am {self.age} years old.\")\n",
        "\n",
        "p = Person(\"Alice\", 25)\n",
        "p.greet()\n",
        "print(\"\\n\")\n"
      ],
      "metadata": {
        "colab": {
          "base_uri": "https://localhost:8080/"
        },
        "id": "lP1y5ngfuOr3",
        "outputId": "1f819c5f-2a9a-479b-f186-dae774e11a9f"
      },
      "execution_count": 36,
      "outputs": [
        {
          "output_type": "stream",
          "name": "stdout",
          "text": [
            "Hello, my name is Alice and I am 25 years old.\n",
            "\n",
            "\n"
          ]
        }
      ]
    },
    {
      "cell_type": "markdown",
      "source": [
        " 12. Implement a class Student with attributes name and grades. Create a method average_grade() to compute\n",
        "the average of the grades."
      ],
      "metadata": {
        "id": "LD8xjvhhqrci"
      }
    },
    {
      "cell_type": "code",
      "source": [
        "class Student:\n",
        "    def __init__(self, name, grades):\n",
        "        self.name = name\n",
        "        self.grades = grades\n",
        "\n",
        "    def average_grade(self):\n",
        "        return sum(self.grades) / len(self.grades)\n",
        "\n",
        "s = Student(\"John\", [90, 85, 88])\n",
        "print(f\"Average Grade: {s.average_grade()}\")\n",
        "print(\"\\n\")\n"
      ],
      "metadata": {
        "colab": {
          "base_uri": "https://localhost:8080/"
        },
        "id": "PDeRg2zKuS18",
        "outputId": "f14cbfe1-2bb6-428a-9871-d6e5a9b82a29"
      },
      "execution_count": 35,
      "outputs": [
        {
          "output_type": "stream",
          "name": "stdout",
          "text": [
            "Average Grade: 87.66666666666667\n",
            "\n",
            "\n"
          ]
        }
      ]
    },
    {
      "cell_type": "markdown",
      "source": [
        " 13. Create a class Rectangle with methods set_dimensions() to set the dimensions and area() to calculate the\n",
        "area."
      ],
      "metadata": {
        "id": "s_OFyjc_qt7m"
      }
    },
    {
      "cell_type": "code",
      "source": [
        "class Rectangle:\n",
        "    def set_dimensions(self, length, width):\n",
        "        self.length = length\n",
        "        self.width = width\n",
        "\n",
        "    def area(self):\n",
        "        return self.length * self.width\n",
        "\n",
        "r = Rectangle()\n",
        "r.set_dimensions(5, 4)\n",
        "print(f\"Area: {r.area()}\")\n",
        "print(\"\\n\")\n"
      ],
      "metadata": {
        "colab": {
          "base_uri": "https://localhost:8080/"
        },
        "id": "EHrgrigbuVj6",
        "outputId": "5b61af4f-ed56-4c5b-e75c-247af4b927f3"
      },
      "execution_count": 34,
      "outputs": [
        {
          "output_type": "stream",
          "name": "stdout",
          "text": [
            "Area: 20\n",
            "\n",
            "\n"
          ]
        }
      ]
    },
    {
      "cell_type": "markdown",
      "source": [
        " 14. Create a class Employee with a method calculate_salary() that computes the salary based on hours worked\n",
        "and hourly rate. Create a derived class Manager that adds a bonus to the salary."
      ],
      "metadata": {
        "id": "gkN5uDtLrW9z"
      }
    },
    {
      "cell_type": "code",
      "source": [
        "class Employee:\n",
        "    def calculate_salary(self, hours_worked, hourly_rate):\n",
        "        return hours_worked * hourly_rate\n",
        "\n",
        "class Manager(Employee):\n",
        "    def calculate_salary(self, hours_worked, hourly_rate, bonus):\n",
        "        return super().calculate_salary(hours_worked, hourly_rate) + bonus\n",
        "\n",
        "m = Manager()\n",
        "print(f\"Manager Salary: {m.calculate_salary(40, 20, 100)}\")\n",
        "print(\"\\n\")\n"
      ],
      "metadata": {
        "colab": {
          "base_uri": "https://localhost:8080/"
        },
        "id": "eXbFmwWYuY9A",
        "outputId": "cd77ee68-5f95-48dc-c1af-cf426c0d06c1"
      },
      "execution_count": 33,
      "outputs": [
        {
          "output_type": "stream",
          "name": "stdout",
          "text": [
            "Manager Salary: 900\n",
            "\n",
            "\n"
          ]
        }
      ]
    },
    {
      "cell_type": "markdown",
      "source": [
        "15. Create a class Product with attributes name, price, and quantity. Implement a method total_price() that\n",
        "calculates the total price of the product."
      ],
      "metadata": {
        "id": "XEZrQPW6rZPy"
      }
    },
    {
      "cell_type": "code",
      "source": [
        "class Product:\n",
        "    def __init__(self, name, price, quantity):\n",
        "        self.name = name\n",
        "        self.price = price\n",
        "        self.quantity = quantity\n",
        "\n",
        "    def total_price(self):\n",
        "        return self.price * self.quantity\n",
        "\n",
        "p = Product(\"Laptop\", 800, 2)\n",
        "print(f\"Total Price: {p.total_price()}\")\n",
        "print(\"\\n\")\n"
      ],
      "metadata": {
        "colab": {
          "base_uri": "https://localhost:8080/"
        },
        "id": "W61wJTdzueKf",
        "outputId": "8deb2eec-e83f-4c11-d2d6-c675d57de40c"
      },
      "execution_count": 32,
      "outputs": [
        {
          "output_type": "stream",
          "name": "stdout",
          "text": [
            "Total Price: 1600\n",
            "\n",
            "\n"
          ]
        }
      ]
    },
    {
      "cell_type": "markdown",
      "source": [
        " 16. Create a class Animal with an abstract method sound(). Create two derived classes Cow and Sheep that\n",
        "implement the sound() method."
      ],
      "metadata": {
        "id": "hsYONmlirbLd"
      }
    },
    {
      "cell_type": "code",
      "source": [
        "class Animal(ABC):\n",
        "    @abstractmethod\n",
        "    def sound(self):\n",
        "        pass\n",
        "\n",
        "class Cow(Animal):\n",
        "    def sound(self):\n",
        "        return \"Moo\"\n",
        "\n",
        "class Sheep(Animal):\n",
        "    def sound(self):\n",
        "        return \"Baa\"\n",
        "\n",
        "c = Cow()\n",
        "print(f\"Cow Sound: {c.sound()}\")\n",
        "print(\"\\n\")\n"
      ],
      "metadata": {
        "colab": {
          "base_uri": "https://localhost:8080/"
        },
        "id": "4weY4STNuiV4",
        "outputId": "7c6b6493-284d-4437-8c2e-d6883d3ba836"
      },
      "execution_count": 31,
      "outputs": [
        {
          "output_type": "stream",
          "name": "stdout",
          "text": [
            "Cow Sound: Moo\n",
            "\n",
            "\n"
          ]
        }
      ]
    },
    {
      "cell_type": "markdown",
      "source": [
        " 17. Create a class Book with attributes title, author, and year_published. Add a method get_book_info() that\n",
        "returns a formatted string with the book's details."
      ],
      "metadata": {
        "id": "NaxfHWQ1rdWG"
      }
    },
    {
      "cell_type": "code",
      "source": [
        "class Book:\n",
        "    def __init__(self, title, author, year_published):\n",
        "        self.title = title\n",
        "        self.author = author\n",
        "        self.year_published = year_published\n",
        "\n",
        "    def get_book_info(self):\n",
        "        return f\"{self.title} by {self.author}, published in {self.year_published}\"\n",
        "\n",
        "b = Book(\"1984\", \"George Orwell\", 1949)\n",
        "print(b.get_book_info())\n",
        "print(\"\\n\")\n"
      ],
      "metadata": {
        "colab": {
          "base_uri": "https://localhost:8080/"
        },
        "id": "l3gvRbnTullS",
        "outputId": "b3ac0c85-2be4-4c9e-a7e8-14463f378a3f"
      },
      "execution_count": 30,
      "outputs": [
        {
          "output_type": "stream",
          "name": "stdout",
          "text": [
            "1984 by George Orwell, published in 1949\n",
            "\n",
            "\n"
          ]
        }
      ]
    },
    {
      "cell_type": "markdown",
      "source": [
        " 18. Create a class House with attributes address and price. Create a derived class Mansion that adds an\n",
        "attribute number_of_rooms."
      ],
      "metadata": {
        "id": "CVsLxTpprgCv"
      }
    },
    {
      "cell_type": "code",
      "source": [
        "class House:\n",
        "    def __init__(self, address, price):\n",
        "        self.address = address\n",
        "        self.price = price\n",
        "\n",
        "class Mansion(House):\n",
        "    def __init__(self, address, price, number_of_rooms):\n",
        "        super().__init__(address, price)\n",
        "        self.number_of_rooms = number_of_rooms\n",
        "\n",
        "m = Mansion(\"123 Street\", 500000, 10)\n",
        "print(f\"Address: {m.address}, Price: {m.price}, Rooms: {m.number_of_rooms}\")\n"
      ],
      "metadata": {
        "colab": {
          "base_uri": "https://localhost:8080/"
        },
        "id": "cPBlWc3Xum5Z",
        "outputId": "78bed1fa-7357-4e16-acdd-a40afe9890a7"
      },
      "execution_count": 29,
      "outputs": [
        {
          "output_type": "stream",
          "name": "stdout",
          "text": [
            "Address: 123 Street, Price: 500000, Rooms: 10\n"
          ]
        }
      ]
    }
  ]
}